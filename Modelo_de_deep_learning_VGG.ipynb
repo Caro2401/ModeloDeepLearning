{
  "nbformat": 4,
  "nbformat_minor": 0,
  "metadata": {
    "colab": {
      "provenance": [],
      "gpuType": "T4"
    },
    "kernelspec": {
      "name": "python3",
      "display_name": "Python 3"
    },
    "language_info": {
      "name": "python"
    },
    "accelerator": "GPU"
  },
  "cells": [
    {
      "cell_type": "code",
      "execution_count": 1,
      "metadata": {
        "colab": {
          "base_uri": "https://localhost:8080/",
          "height": 0
        },
        "id": "XwD7GshvCoTu",
        "outputId": "ea21e3b2-f9a7-4efd-f07e-199134cf9151"
      },
      "outputs": [
        {
          "output_type": "stream",
          "name": "stdout",
          "text": [
            "Mounted at /content/drive\n",
            "/content/drive/MyDrive/Concentracion AI/Modulo 2 Arq de Deep Learning/Entregable\n"
          ]
        }
      ],
      "source": [
        "# Conectar con Google Drive\n",
        "from google.colab import drive\n",
        "drive.mount('/content/drive')\n",
        "\n",
        "%cd \"/content/drive/MyDrive/Concentracion AI/Modulo 2 Arq de Deep Learning/Entregable\""
      ]
    },
    {
      "cell_type": "code",
      "source": [
        "# Importar las librerias a utilizar\n",
        "import matplotlib.pyplot as plt\n",
        "import numpy as np\n",
        "import os\n",
        "import tensorflow as tf\n",
        "import pandas as pd\n",
        "\n",
        "from tensorflow.keras.models import Sequential\n",
        "from tensorflow.keras.layers import Dense, Flatten, Conv2D, MaxPooling2D\n",
        "from tensorflow.keras import models\n",
        "from tensorflow.keras import layers\n",
        "from tensorflow.keras.preprocessing.image import ImageDataGenerator\n",
        "from tensorflow.keras import optimizers"
      ],
      "metadata": {
        "id": "6aE7gvfvCw9v"
      },
      "execution_count": 3,
      "outputs": []
    },
    {
      "cell_type": "code",
      "source": [
        "base_dir = 'Flowers'\n",
        "train_dir = os.path.join(base_dir,'train')\n",
        "validation_dir = os.path.join(base_dir, 'validation')\n",
        "test_dir = os.path.join(base_dir, 'test')\n",
        "\n",
        "# Preprocesado de imagenes con ImageDataGenerator\n",
        "datagen = ImageDataGenerator(\n",
        "          rescale = 1./255,\n",
        "          rotation_range = 20,\n",
        "          width_shift_range = 0.5,\n",
        "          height_shift_range = 0.5)\n",
        "\n",
        "# Create data generators for training and validation sets\n",
        "train_generator = datagen.flow_from_directory(\n",
        "          train_dir,\n",
        "          target_size = (150, 150),\n",
        "          batch_size = 32,\n",
        "          class_mode = 'sparse')\n",
        "\n",
        "validation_generator = datagen.flow_from_directory(\n",
        "          validation_dir,\n",
        "          target_size=(150, 150),\n",
        "          batch_size=32,\n",
        "          class_mode = 'sparse')\n",
        "\n",
        "test_generator = datagen.flow_from_directory(\n",
        "          test_dir,\n",
        "          target_size = (150, 150),\n",
        "          batch_size = 32,\n",
        "          class_mode = 'sparse')\n"
      ],
      "metadata": {
        "colab": {
          "base_uri": "https://localhost:8080/"
        },
        "id": "TVlFqCi6C-FW",
        "outputId": "69e20339-4cfa-489b-b7fb-2786bf0fd23b"
      },
      "execution_count": 14,
      "outputs": [
        {
          "output_type": "stream",
          "name": "stdout",
          "text": [
            "Found 1514 images belonging to 4 classes.\n",
            "Found 424 images belonging to 4 classes.\n",
            "Found 551 images belonging to 4 classes.\n"
          ]
        }
      ]
    },
    {
      "cell_type": "code",
      "source": [
        "# Tomar VGG16 con un modelo base\n",
        "from tensorflow.keras.applications import VGG16\n",
        "base = VGG16(weights='imagenet', include_top=False, input_shape=(150, 150, 3))\n",
        "\n",
        "# Congelar las capas convolusionales\n",
        "for layer in base.layers:\n",
        "    layer.trainable = False"
      ],
      "metadata": {
        "id": "jNBO99OODBYa"
      },
      "execution_count": 15,
      "outputs": []
    },
    {
      "cell_type": "code",
      "source": [
        "# Creación del modelo\n",
        "model = models.Sequential()\n",
        "model.add(base)\n",
        "model.add(layers.Flatten())\n",
        "model.add(layers.Dense(64, activation='relu'))\n",
        "model.add(layers.Dropout(0.5))\n",
        "model.add(layers.Dense(4, activation='softmax'))"
      ],
      "metadata": {
        "id": "jkKlKZJODGxB"
      },
      "execution_count": 16,
      "outputs": []
    },
    {
      "cell_type": "code",
      "source": [
        "model.summary()"
      ],
      "metadata": {
        "colab": {
          "base_uri": "https://localhost:8080/"
        },
        "id": "8N-olIzBGC9y",
        "outputId": "923527dd-7945-4783-ff25-249e1a2ff5b2"
      },
      "execution_count": 17,
      "outputs": [
        {
          "output_type": "stream",
          "name": "stdout",
          "text": [
            "Model: \"sequential_1\"\n",
            "_________________________________________________________________\n",
            " Layer (type)                Output Shape              Param #   \n",
            "=================================================================\n",
            " vgg16 (Functional)          (None, 4, 4, 512)         14714688  \n",
            "                                                                 \n",
            " flatten_1 (Flatten)         (None, 8192)              0         \n",
            "                                                                 \n",
            " dense_2 (Dense)             (None, 64)                524352    \n",
            "                                                                 \n",
            " dropout_1 (Dropout)         (None, 64)                0         \n",
            "                                                                 \n",
            " dense_3 (Dense)             (None, 4)                 260       \n",
            "                                                                 \n",
            "=================================================================\n",
            "Total params: 15239300 (58.13 MB)\n",
            "Trainable params: 524612 (2.00 MB)\n",
            "Non-trainable params: 14714688 (56.13 MB)\n",
            "_________________________________________________________________\n"
          ]
        }
      ]
    },
    {
      "cell_type": "code",
      "source": [
        "model.compile(optimizer = 'adam',\n",
        "              loss = 'sparse_categorical_crossentropy',\n",
        "              metrics = ['accuracy']\n",
        "              )"
      ],
      "metadata": {
        "id": "zeVlYFhxKfbF"
      },
      "execution_count": 18,
      "outputs": []
    },
    {
      "cell_type": "markdown",
      "source": [
        "### Entrenamiento"
      ],
      "metadata": {
        "id": "28-vksdjLKi4"
      }
    },
    {
      "cell_type": "code",
      "source": [
        "# Train the model\n",
        "history = model.fit(\n",
        "    train_generator,\n",
        "    steps_per_epoch = 47, #train_generator.samples / train_generator.batch_size,\n",
        "    epochs = 20,\n",
        "    validation_data = validation_generator,\n",
        "    validation_steps = 13 #validation_generator.samples / validation_generator.batch_size\n",
        ")"
      ],
      "metadata": {
        "colab": {
          "base_uri": "https://localhost:8080/"
        },
        "id": "xh_8SMgYDKZb",
        "outputId": "25e7af31-fb3c-4f27-d35d-cea4583f9da0"
      },
      "execution_count": 19,
      "outputs": [
        {
          "output_type": "stream",
          "name": "stdout",
          "text": [
            "Epoch 1/20\n",
            "47/47 [==============================] - 31s 605ms/step - loss: 1.2124 - accuracy: 0.4696 - val_loss: 0.9223 - val_accuracy: 0.6731\n",
            "Epoch 2/20\n",
            "47/47 [==============================] - 25s 534ms/step - loss: 0.9226 - accuracy: 0.6053 - val_loss: 0.8175 - val_accuracy: 0.7452\n",
            "Epoch 3/20\n",
            "47/47 [==============================] - 26s 559ms/step - loss: 0.8432 - accuracy: 0.6505 - val_loss: 0.6744 - val_accuracy: 0.7356\n",
            "Epoch 4/20\n",
            "47/47 [==============================] - 28s 593ms/step - loss: 0.7508 - accuracy: 0.6910 - val_loss: 0.6435 - val_accuracy: 0.7861\n",
            "Epoch 5/20\n",
            "47/47 [==============================] - 23s 498ms/step - loss: 0.7601 - accuracy: 0.7011 - val_loss: 0.5912 - val_accuracy: 0.8005\n",
            "Epoch 6/20\n",
            "47/47 [==============================] - 25s 538ms/step - loss: 0.7530 - accuracy: 0.6950 - val_loss: 0.6356 - val_accuracy: 0.7812\n",
            "Epoch 7/20\n",
            "47/47 [==============================] - 24s 522ms/step - loss: 0.6847 - accuracy: 0.7348 - val_loss: 0.5139 - val_accuracy: 0.8293\n",
            "Epoch 8/20\n",
            "47/47 [==============================] - 28s 599ms/step - loss: 0.6726 - accuracy: 0.7294 - val_loss: 0.5214 - val_accuracy: 0.8197\n",
            "Epoch 9/20\n",
            "47/47 [==============================] - 23s 497ms/step - loss: 0.6489 - accuracy: 0.7321 - val_loss: 0.4875 - val_accuracy: 0.8125\n",
            "Epoch 10/20\n",
            "47/47 [==============================] - 23s 496ms/step - loss: 0.6584 - accuracy: 0.7348 - val_loss: 0.5329 - val_accuracy: 0.8149\n",
            "Epoch 11/20\n",
            "47/47 [==============================] - 24s 522ms/step - loss: 0.6257 - accuracy: 0.7524 - val_loss: 0.4933 - val_accuracy: 0.8101\n",
            "Epoch 12/20\n",
            "47/47 [==============================] - 24s 509ms/step - loss: 0.6002 - accuracy: 0.7503 - val_loss: 0.4901 - val_accuracy: 0.8077\n",
            "Epoch 13/20\n",
            "47/47 [==============================] - 28s 595ms/step - loss: 0.6054 - accuracy: 0.7578 - val_loss: 0.4487 - val_accuracy: 0.8269\n",
            "Epoch 14/20\n",
            "47/47 [==============================] - 23s 496ms/step - loss: 0.5582 - accuracy: 0.7780 - val_loss: 0.5027 - val_accuracy: 0.8077\n",
            "Epoch 15/20\n",
            "47/47 [==============================] - 28s 594ms/step - loss: 0.5819 - accuracy: 0.7632 - val_loss: 0.4614 - val_accuracy: 0.8341\n",
            "Epoch 16/20\n",
            "47/47 [==============================] - 28s 597ms/step - loss: 0.5835 - accuracy: 0.7800 - val_loss: 0.4727 - val_accuracy: 0.8365\n",
            "Epoch 17/20\n",
            "47/47 [==============================] - 24s 500ms/step - loss: 0.5877 - accuracy: 0.7640 - val_loss: 0.4526 - val_accuracy: 0.8341\n",
            "Epoch 18/20\n",
            "47/47 [==============================] - 28s 595ms/step - loss: 0.5907 - accuracy: 0.7605 - val_loss: 0.4412 - val_accuracy: 0.8389\n",
            "Epoch 19/20\n",
            "47/47 [==============================] - 28s 594ms/step - loss: 0.5771 - accuracy: 0.7672 - val_loss: 0.4898 - val_accuracy: 0.8149\n",
            "Epoch 20/20\n",
            "47/47 [==============================] - 28s 601ms/step - loss: 0.5685 - accuracy: 0.7753 - val_loss: 0.3779 - val_accuracy: 0.8606\n"
          ]
        }
      ]
    },
    {
      "cell_type": "code",
      "source": [
        "'''# Se guarda el modelo\n",
        "model.save('flowersVGG.h5')'''"
      ],
      "metadata": {
        "colab": {
          "base_uri": "https://localhost:8080/"
        },
        "id": "wzW7v4h9vm4d",
        "outputId": "10ae1a70-5168-4bc1-c5c9-8d41640633da"
      },
      "execution_count": 20,
      "outputs": [
        {
          "output_type": "stream",
          "name": "stderr",
          "text": [
            "/usr/local/lib/python3.10/dist-packages/keras/src/engine/training.py:3079: UserWarning: You are saving your model as an HDF5 file via `model.save()`. This file format is considered legacy. We recommend using instead the native Keras format, e.g. `model.save('my_model.keras')`.\n",
            "  saving_api.save_model(\n"
          ]
        }
      ]
    },
    {
      "cell_type": "code",
      "source": [
        "# Grafica del accuracy en train y en validation\n",
        "plt.plot(history.history['accuracy'], label='Training Accuracy')\n",
        "plt.plot(history.history['val_accuracy'], label='Validation Accuracy')\n",
        "plt.xlabel('Epochs')\n",
        "plt.ylabel('Accuracy')\n",
        "plt.legend()\n",
        "plt.show()"
      ],
      "metadata": {
        "colab": {
          "base_uri": "https://localhost:8080/",
          "height": 449
        },
        "id": "4-thu_1BLR2k",
        "outputId": "86db8fd5-c8b2-4c59-b281-ae8492ee6361"
      },
      "execution_count": 21,
      "outputs": [
        {
          "output_type": "display_data",
          "data": {
            "text/plain": [
              "<Figure size 640x480 with 1 Axes>"
            ],
            "image/png": "[encoded data removed]"
          },
          "metadata": {}
        }
      ]
    },
    {
      "cell_type": "markdown",
      "source": [
        "### Pruebas"
      ],
      "metadata": {
        "id": "oP9LjdjfLW8l"
      }
    },
    {
      "cell_type": "code",
      "source": [
        "from sklearn.metrics import confusion_matrix\n",
        "import seaborn as sns"
      ],
      "metadata": {
        "id": "i18cLi2MLdIA"
      },
      "execution_count": 22,
      "outputs": []
    },
    {
      "cell_type": "code",
      "source": [
        "# Realizar predicciones\n",
        "prediction = model.predict(test_generator)\n",
        "\n",
        "# Obtener true labels\n",
        "true_label = test_generator.classes\n",
        "\n",
        "# Obtener predicted labels\n",
        "predicted_label = np.argmax(prediction, axis=1)"
      ],
      "metadata": {
        "colab": {
          "base_uri": "https://localhost:8080/"
        },
        "id": "EvpLaC8ILgXa",
        "outputId": "4063607d-0908-43a8-d1d1-6009a686c6ae"
      },
      "execution_count": 23,
      "outputs": [
        {
          "output_type": "stream",
          "name": "stdout",
          "text": [
            "18/18 [==============================] - 167s 10s/step\n"
          ]
        }
      ]
    },
    {
      "cell_type": "code",
      "source": [
        "# Prueba con los datos de test\n",
        "test_loss, test_acc = model.evaluate(test_generator, steps = 10)\n",
        "print('\\nTest accuracy :\\n', test_acc)"
      ],
      "metadata": {
        "colab": {
          "base_uri": "https://localhost:8080/"
        },
        "id": "FQzx3AsYvwaF",
        "outputId": "5dc1cc02-4632-497c-924f-ad50be21d4de"
      },
      "execution_count": 24,
      "outputs": [
        {
          "output_type": "stream",
          "name": "stdout",
          "text": [
            "10/10 [==============================] - 4s 391ms/step - loss: 0.3201 - accuracy: 0.8938\n",
            "\n",
            "test acc :\n",
            " 0.893750011920929\n"
          ]
        }
      ]
    },
    {
      "cell_type": "code",
      "source": [
        "# Matriz de confusión\n",
        "cMatrix = confusion_matrix(true_label, predicted_label)"
      ],
      "metadata": {
        "id": "MG_P5M9cLrGy"
      },
      "execution_count": 25,
      "outputs": []
    },
    {
      "cell_type": "code",
      "source": [
        "# Grafica de la matriz de confusión\n",
        "sns.heatmap(cMatrix, annot=True, fmt='d', cmap='Blues', cbar=False,\n",
        "            xticklabels=test_generator.class_indices,\n",
        "            yticklabels=test_generator.class_indices)\n",
        "plt.title('Confusion Matrix')\n",
        "plt.xlabel('Predicted Labels')\n",
        "plt.ylabel('True Labels')\n",
        "plt.show()"
      ],
      "metadata": {
        "colab": {
          "base_uri": "https://localhost:8080/",
          "height": 472
        },
        "id": "saoE2_PILtS6",
        "outputId": "23cce057-36f8-46a8-f9fc-ad1820194ea7"
      },
      "execution_count": 28,
      "outputs": [
        {
          "output_type": "display_data",
          "data": {
            "text/plain": [
              "<Figure size 640x480 with 1 Axes>"
            ],
            "image/png": "[encoded data removed]"
          },
          "metadata": {}
        }
      ]
    }
  ]
}