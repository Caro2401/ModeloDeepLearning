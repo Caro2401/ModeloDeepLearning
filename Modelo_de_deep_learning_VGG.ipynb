{
  "nbformat": 4,
  "nbformat_minor": 0,
  "metadata": {
    "colab": {
      "provenance": [],
      "gpuType": "T4"
    },
    "kernelspec": {
      "name": "python3",
      "display_name": "Python 3"
    },
    "language_info": {
      "name": "python"
    },
    "accelerator": "GPU"
  },
  "cells": [
    {
      "cell_type": "code",
      "execution_count": 1,
      "metadata": {
        "colab": {
          "base_uri": "https://localhost:8080/"
        },
        "id": "XwD7GshvCoTu",
        "outputId": "27962dae-6bc3-4ea5-be00-effec6cb8406"
      },
      "outputs": [
        {
          "output_type": "stream",
          "name": "stdout",
          "text": [
            "Drive already mounted at /content/drive; to attempt to forcibly remount, call drive.mount(\"/content/drive\", force_remount=True).\n",
            "/content/drive/MyDrive/Concentracion AI/Modulo 2 Arq de Deep Learning/Entregable\n"
          ]
        }
      ],
      "source": [
        "# Conectar con Google Drive\n",
        "from google.colab import drive\n",
        "drive.mount('/content/drive')\n",
        "\n",
        "%cd \"/content/drive/MyDrive/Concentracion AI/Modulo 2 Arq de Deep Learning/Entregable\""
      ]
    },
    {
      "cell_type": "code",
      "source": [
        "# Importar las librerias a utilizar\n",
        "import matplotlib.pyplot as plt\n",
        "import numpy as np\n",
        "import os\n",
        "import tensorflow as tf\n",
        "import pandas as pd\n",
        "\n",
        "from tensorflow.keras.models import Sequential\n",
        "from tensorflow.keras.layers import Dense, Flatten, Conv2D, MaxPooling2D\n",
        "from tensorflow.keras import models\n",
        "from tensorflow.keras import layers\n",
        "from tensorflow.keras.preprocessing.image import ImageDataGenerator\n",
        "from tensorflow.keras import optimizers"
      ],
      "metadata": {
        "id": "6aE7gvfvCw9v"
      },
      "execution_count": 2,
      "outputs": []
    },
    {
      "cell_type": "code",
      "source": [
        "base_dir = 'Flowers'\n",
        "train_dir = os.path.join(base_dir,'train')\n",
        "validation_dir = os.path.join(base_dir, 'validation')\n",
        "test_dir = os.path.join(base_dir, 'test')\n",
        "\n",
        "# Preprocesado de imagenes con ImageDataGenerator\n",
        "datagen = ImageDataGenerator(\n",
        "          rescale = 1./255,\n",
        "          rotation_range = 20,\n",
        "          width_shift_range = 0.5,\n",
        "          height_shift_range = 0.5)\n",
        "\n",
        "# Create data generators for training and validation sets\n",
        "train_generator = datagen.flow_from_directory(\n",
        "          train_dir,\n",
        "          target_size = (150, 150),\n",
        "          batch_size = 32,\n",
        "          class_mode = 'sparse')\n",
        "\n",
        "val_datagen = ImageDataGenerator(1./255)\n",
        "\n",
        "validation_generator = val_datagen.flow_from_directory(\n",
        "          validation_dir,\n",
        "          target_size=(150, 150),\n",
        "          batch_size=32,\n",
        "          class_mode = 'sparse')\n",
        "\n",
        "test_datagen = ImageDataGenerator(1./255)\n",
        "\n",
        "test_generator = test_datagen.flow_from_directory(\n",
        "          test_dir,\n",
        "          target_size = (150, 150),\n",
        "          batch_size = 32,\n",
        "          class_mode = 'sparse')\n"
      ],
      "metadata": {
        "colab": {
          "base_uri": "https://localhost:8080/"
        },
        "id": "TVlFqCi6C-FW",
        "outputId": "5786bec4-e008-497b-9b18-250a5542b339"
      },
      "execution_count": 3,
      "outputs": [
        {
          "output_type": "stream",
          "name": "stdout",
          "text": [
            "Found 1514 images belonging to 4 classes.\n",
            "Found 424 images belonging to 4 classes.\n",
            "Found 551 images belonging to 4 classes.\n"
          ]
        }
      ]
    },
    {
      "cell_type": "code",
      "source": [
        "# Tomar VGG16 con un modelo base\n",
        "from tensorflow.keras.applications import VGG16\n",
        "base = VGG16(weights='imagenet', include_top=False, input_shape=(150, 150, 3))\n",
        "\n",
        "# Congelar las capas convolusionales\n",
        "for layer in base.layers:\n",
        "    layer.trainable = False"
      ],
      "metadata": {
        "id": "jNBO99OODBYa"
      },
      "execution_count": 4,
      "outputs": []
    },
    {
      "cell_type": "code",
      "source": [
        "# Creación del modelo\n",
        "model = models.Sequential()\n",
        "model.add(base)\n",
        "model.add(layers.Flatten())\n",
        "model.add(layers.Dense(64, activation='relu'))\n",
        "model.add(layers.Dropout(0.5))\n",
        "model.add(layers.Dense(4, activation='softmax'))"
      ],
      "metadata": {
        "id": "jkKlKZJODGxB"
      },
      "execution_count": 5,
      "outputs": []
    },
    {
      "cell_type": "code",
      "source": [
        "model.summary()"
      ],
      "metadata": {
        "colab": {
          "base_uri": "https://localhost:8080/"
        },
        "id": "8N-olIzBGC9y",
        "outputId": "bad21168-cd01-4379-9a1b-b43d32e7a683"
      },
      "execution_count": 6,
      "outputs": [
        {
          "output_type": "stream",
          "name": "stdout",
          "text": [
            "Model: \"sequential\"\n",
            "_________________________________________________________________\n",
            " Layer (type)                Output Shape              Param #   \n",
            "=================================================================\n",
            " vgg16 (Functional)          (None, 4, 4, 512)         14714688  \n",
            "                                                                 \n",
            " flatten (Flatten)           (None, 8192)              0         \n",
            "                                                                 \n",
            " dense (Dense)               (None, 64)                524352    \n",
            "                                                                 \n",
            " dropout (Dropout)           (None, 64)                0         \n",
            "                                                                 \n",
            " dense_1 (Dense)             (None, 4)                 260       \n",
            "                                                                 \n",
            "=================================================================\n",
            "Total params: 15239300 (58.13 MB)\n",
            "Trainable params: 524612 (2.00 MB)\n",
            "Non-trainable params: 14714688 (56.13 MB)\n",
            "_________________________________________________________________\n"
          ]
        }
      ]
    },
    {
      "cell_type": "code",
      "source": [
        "model.compile(optimizer = 'adam',\n",
        "              loss = 'sparse_categorical_crossentropy',\n",
        "              metrics = ['accuracy']\n",
        "              )"
      ],
      "metadata": {
        "id": "zeVlYFhxKfbF"
      },
      "execution_count": 7,
      "outputs": []
    },
    {
      "cell_type": "markdown",
      "source": [
        "### Entrenamiento"
      ],
      "metadata": {
        "id": "28-vksdjLKi4"
      }
    },
    {
      "cell_type": "code",
      "source": [
        "# Train the model\n",
        "history = model.fit(\n",
        "    train_generator,\n",
        "    steps_per_epoch = 47, #train_generator.samples / train_generator.batch_size,\n",
        "    epochs = 20,\n",
        "    validation_data = validation_generator,\n",
        "    validation_steps = 13 #validation_generator.samples / validation_generator.batch_size\n",
        ")"
      ],
      "metadata": {
        "colab": {
          "base_uri": "https://localhost:8080/"
        },
        "id": "xh_8SMgYDKZb",
        "outputId": "144302ce-2c6f-4c82-cb7b-8e495637ab34"
      },
      "execution_count": 8,
      "outputs": [
        {
          "output_type": "stream",
          "name": "stdout",
          "text": [
            "Epoch 1/20\n",
            "47/47 [==============================] - ETA: 0s - loss: 1.2242 - accuracy: 0.4447"
          ]
        },
        {
          "output_type": "stream",
          "name": "stderr",
          "text": [
            "/usr/local/lib/python3.10/dist-packages/keras/src/preprocessing/image.py:1862: UserWarning: This ImageDataGenerator specifies `featurewise_center`, but it hasn't been fit on any training data. Fit it first by calling `.fit(numpy_data)`.\n",
            "  warnings.warn(\n"
          ]
        },
        {
          "output_type": "stream",
          "name": "stdout",
          "text": [
            "\b\b\b\b\b\b\b\b\b\b\b\b\b\b\b\b\b\b\b\b\b\b\b\b\b\b\b\b\b\b\b\b\b\b\b\b\b\b\b\b\b\b\b\b\b\b\b\b\b\b\b\b\b\b\b\b\b\b\b\b\b\b\b\b\b\b\b\b\b\b\b\b\b\b\b\b\b\b\b\b\b\b\r47/47 [==============================] - 34s 496ms/step - loss: 1.2242 - accuracy: 0.4447 - val_loss: 7.4753 - val_accuracy: 0.5553\n",
            "Epoch 2/20\n",
            "47/47 [==============================] - 21s 453ms/step - loss: 0.9903 - accuracy: 0.5762 - val_loss: 9.4036 - val_accuracy: 0.6947\n",
            "Epoch 3/20\n",
            "47/47 [==============================] - 20s 438ms/step - loss: 0.8709 - accuracy: 0.6248 - val_loss: 13.5653 - val_accuracy: 0.6827\n",
            "Epoch 4/20\n",
            "47/47 [==============================] - 23s 475ms/step - loss: 0.8440 - accuracy: 0.6478 - val_loss: 12.5211 - val_accuracy: 0.7163\n",
            "Epoch 5/20\n",
            "47/47 [==============================] - 22s 479ms/step - loss: 0.7733 - accuracy: 0.6788 - val_loss: 11.8421 - val_accuracy: 0.7404\n",
            "Epoch 6/20\n",
            "47/47 [==============================] - 21s 453ms/step - loss: 0.7376 - accuracy: 0.7092 - val_loss: 12.9907 - val_accuracy: 0.7380\n",
            "Epoch 7/20\n",
            "47/47 [==============================] - 22s 466ms/step - loss: 0.7267 - accuracy: 0.7031 - val_loss: 13.8437 - val_accuracy: 0.7332\n",
            "Epoch 8/20\n",
            "47/47 [==============================] - 21s 440ms/step - loss: 0.6726 - accuracy: 0.7301 - val_loss: 17.0774 - val_accuracy: 0.7308\n",
            "Epoch 9/20\n",
            "47/47 [==============================] - 23s 481ms/step - loss: 0.6312 - accuracy: 0.7517 - val_loss: 19.6807 - val_accuracy: 0.7115\n",
            "Epoch 10/20\n",
            "47/47 [==============================] - 20s 435ms/step - loss: 0.6357 - accuracy: 0.7490 - val_loss: 18.0019 - val_accuracy: 0.7308\n",
            "Epoch 11/20\n",
            "47/47 [==============================] - 23s 485ms/step - loss: 0.6650 - accuracy: 0.7308 - val_loss: 16.8471 - val_accuracy: 0.7332\n",
            "Epoch 12/20\n",
            "47/47 [==============================] - 22s 462ms/step - loss: 0.6397 - accuracy: 0.7321 - val_loss: 24.9652 - val_accuracy: 0.7067\n",
            "Epoch 13/20\n",
            "47/47 [==============================] - 22s 478ms/step - loss: 0.5958 - accuracy: 0.7726 - val_loss: 20.9385 - val_accuracy: 0.7284\n",
            "Epoch 14/20\n",
            "47/47 [==============================] - 22s 470ms/step - loss: 0.6220 - accuracy: 0.7537 - val_loss: 19.4860 - val_accuracy: 0.7380\n",
            "Epoch 15/20\n",
            "47/47 [==============================] - 21s 445ms/step - loss: 0.5884 - accuracy: 0.7611 - val_loss: 22.2569 - val_accuracy: 0.7380\n",
            "Epoch 16/20\n",
            "47/47 [==============================] - 22s 480ms/step - loss: 0.5574 - accuracy: 0.7807 - val_loss: 27.8818 - val_accuracy: 0.7332\n",
            "Epoch 17/20\n",
            "47/47 [==============================] - 23s 482ms/step - loss: 0.6013 - accuracy: 0.7497 - val_loss: 20.8603 - val_accuracy: 0.7572\n",
            "Epoch 18/20\n",
            "47/47 [==============================] - 21s 454ms/step - loss: 0.5746 - accuracy: 0.7719 - val_loss: 22.7936 - val_accuracy: 0.7596\n",
            "Epoch 19/20\n",
            "47/47 [==============================] - 20s 437ms/step - loss: 0.5644 - accuracy: 0.7686 - val_loss: 24.4221 - val_accuracy: 0.7620\n",
            "Epoch 20/20\n",
            "47/47 [==============================] - 22s 479ms/step - loss: 0.5796 - accuracy: 0.7645 - val_loss: 24.6282 - val_accuracy: 0.7668\n"
          ]
        }
      ]
    },
    {
      "cell_type": "code",
      "source": [
        "# Se guarda el modelo\n",
        "model.save('flowersVGG.h5')"
      ],
      "metadata": {
        "id": "wzW7v4h9vm4d"
      },
      "execution_count": 17,
      "outputs": []
    },
    {
      "cell_type": "code",
      "source": [
        "# Grafica del accuracy en train y en validation\n",
        "plt.plot(history.history['accuracy'], label='Training Accuracy')\n",
        "plt.plot(history.history['val_accuracy'], label='Validation Accuracy')\n",
        "plt.xlabel('Epochs')\n",
        "plt.ylabel('Accuracy')\n",
        "plt.legend()\n",
        "plt.show()"
      ],
      "metadata": {
        "colab": {
          "base_uri": "https://localhost:8080/",
          "height": 449
        },
        "id": "4-thu_1BLR2k",
        "outputId": "30232a30-043b-4024-adb9-281048516c93"
      },
      "execution_count": 10,
      "outputs": [
        {
          "output_type": "display_data",
          "data": {
            "text/plain": [
              "<Figure size 640x480 with 1 Axes>"
            ],
            "image/png": "[encoded data removed]"
          },
          "metadata": {}
        }
      ]
    },
    {
      "cell_type": "markdown",
      "source": [
        "### Pruebas"
      ],
      "metadata": {
        "id": "oP9LjdjfLW8l"
      }
    },
    {
      "cell_type": "code",
      "source": [
        "from sklearn.metrics import confusion_matrix\n",
        "import seaborn as sns"
      ],
      "metadata": {
        "id": "i18cLi2MLdIA"
      },
      "execution_count": 11,
      "outputs": []
    },
    {
      "cell_type": "code",
      "source": [
        "# Realizar predicciones\n",
        "prediction = model.predict(test_generator)\n",
        "\n",
        "# Obtener true labels\n",
        "true_label = test_generator.classes\n",
        "\n",
        "# Obtener predicted labels\n",
        "predicted_label = np.argmax(prediction, axis=1)"
      ],
      "metadata": {
        "colab": {
          "base_uri": "https://localhost:8080/"
        },
        "id": "EvpLaC8ILgXa",
        "outputId": "271b9ce3-b7d2-406d-dd98-2d4a0d541f03"
      },
      "execution_count": 12,
      "outputs": [
        {
          "output_type": "stream",
          "name": "stderr",
          "text": [
            "/usr/local/lib/python3.10/dist-packages/keras/src/preprocessing/image.py:1862: UserWarning: This ImageDataGenerator specifies `featurewise_center`, but it hasn't been fit on any training data. Fit it first by calling `.fit(numpy_data)`.\n",
            "  warnings.warn(\n"
          ]
        },
        {
          "output_type": "stream",
          "name": "stdout",
          "text": [
            "18/18 [==============================] - 5s 266ms/step\n"
          ]
        }
      ]
    },
    {
      "cell_type": "code",
      "source": [
        "# Prueba con los datos de test\n",
        "test_loss, test_acc = model.evaluate(test_generator, steps = 10)\n",
        "print('\\nTest accuracy :\\n', test_acc)"
      ],
      "metadata": {
        "colab": {
          "base_uri": "https://localhost:8080/"
        },
        "id": "FQzx3AsYvwaF",
        "outputId": "bf7ad3f9-1077-4723-8c00-045ce40ca50b"
      },
      "execution_count": 13,
      "outputs": [
        {
          "output_type": "stream",
          "name": "stdout",
          "text": [
            "10/10 [==============================] - 2s 191ms/step - loss: 20.3408 - accuracy: 0.8219\n",
            "\n",
            "Test accuracy :\n",
            " 0.8218749761581421\n"
          ]
        }
      ]
    },
    {
      "cell_type": "code",
      "source": [
        "# Matriz de confusión\n",
        "cMatrix = confusion_matrix(true_label, predicted_label)"
      ],
      "metadata": {
        "id": "MG_P5M9cLrGy"
      },
      "execution_count": 14,
      "outputs": []
    },
    {
      "cell_type": "code",
      "source": [
        "# Grafica de la matriz de confusión\n",
        "sns.heatmap(cMatrix, annot=True, fmt='d', cmap='Blues', cbar=False,\n",
        "            xticklabels=test_generator.class_indices,\n",
        "            yticklabels=test_generator.class_indices)\n",
        "plt.title('Confusion Matrix')\n",
        "plt.xlabel('Predicted Labels')\n",
        "plt.ylabel('True Labels')\n",
        "plt.show()"
      ],
      "metadata": {
        "colab": {
          "base_uri": "https://localhost:8080/",
          "height": 472
        },
        "id": "saoE2_PILtS6",
        "outputId": "0d5954a3-ef3d-4996-a913-d2f5443318a5"
      },
      "execution_count": 15,
      "outputs": [
        {
          "output_type": "display_data",
          "data": {
            "text/plain": [
              "<Figure size 640x480 with 1 Axes>"
            ],
            "image/png": "[encoded data removed]"
          },
          "metadata": {}
        }
      ]
    }
  ]
}