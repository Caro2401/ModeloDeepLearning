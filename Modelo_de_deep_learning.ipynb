{
  "nbformat": 4,
  "nbformat_minor": 0,
  "metadata": {
    "colab": {
      "provenance": []
    },
    "kernelspec": {
      "name": "python3",
      "display_name": "Python 3"
    },
    "language_info": {
      "name": "python"
    }
  },
  "cells": [
    {
      "cell_type": "code",
      "execution_count": 1,
      "metadata": {
        "colab": {
          "base_uri": "https://localhost:8080/"
        },
        "id": "5GieZ00_Edv2",
        "outputId": "d6a90993-fc65-4c7d-9ec9-5de536a13d77"
      },
      "outputs": [
        {
          "output_type": "stream",
          "name": "stdout",
          "text": [
            "Drive already mounted at /content/drive; to attempt to forcibly remount, call drive.mount(\"/content/drive\", force_remount=True).\n",
            "/content/drive/MyDrive/Concentracion AI/Modulo 2 Arq de Deep Learning/Entregable\n"
          ]
        }
      ],
      "source": [
        "# Conectar con Google Drive\n",
        "from google.colab import drive\n",
        "drive.mount('/content/drive')\n",
        "\n",
        "%cd \"/content/drive/MyDrive/Concentracion AI/Modulo 2 Arq de Deep Learning/Entregable\""
      ]
    },
    {
      "cell_type": "code",
      "source": [
        "# Importar las librerias a utilizar\n",
        "import matplotlib.pyplot as plt\n",
        "import numpy as np\n",
        "import os\n",
        "import tensorflow as tf\n",
        "import pandas as pd\n",
        "\n",
        "from tensorflow.keras.models import Sequential\n",
        "from tensorflow.keras.layers import Dense, Flatten, Conv2D, MaxPooling2D\n",
        "from tensorflow.keras import models\n",
        "from tensorflow.keras import layers\n",
        "from tensorflow.keras.preprocessing.image import ImageDataGenerator\n",
        "from tensorflow.keras import optimizers"
      ],
      "metadata": {
        "id": "hqp_yE3RXonZ"
      },
      "execution_count": 2,
      "outputs": []
    },
    {
      "cell_type": "code",
      "source": [
        "# Data generators\n",
        "base_dir = 'Flowers'\n",
        "train_dir = os.path.join(base_dir,'train')\n",
        "validation_dir = os.path.join(base_dir, 'validation')\n",
        "test_dir = os.path.join(base_dir, 'test')\n",
        "\n",
        "train_datagen = ImageDataGenerator(1./255)\n",
        "\n",
        "train_generator = train_datagen.flow_from_directory(\n",
        "\t\t\t\t\t\t\ttrain_dir,\n",
        "\t\t\t\t\t\t\ttarget_size = (150, 150),\n",
        "\t\t\t\t\t\t\tbatch_size = 20,\n",
        "\t\t\t\t\t\t\tclass_mode ='sparse')\n",
        "\n",
        "val_datagen = ImageDataGenerator(1./255)\n",
        "\n",
        "val_generator = val_datagen.flow_from_directory(\n",
        "\t\t\t\t\tvalidation_dir,\n",
        "\t\t\t\t\ttarget_size = (150, 150),\n",
        "\t\t\t\t\tbatch_size = 20,\n",
        "\t\t\t\t\tclass_mode= 'sparse')\n",
        "\n",
        "test_datagen = ImageDataGenerator(1./255)\n",
        "\n",
        "test_generator = test_datagen.flow_from_directory(\n",
        "\t\t\t\t\t\t\ttest_dir,\n",
        "\t\t\t\t\t\t\ttarget_size = (150, 150),\n",
        "\t\t\t\t\t\t\tbatch_size = 20,\n",
        "\t\t\t\t\t\t\tclass_mode ='sparse')\n"
      ],
      "metadata": {
        "colab": {
          "base_uri": "https://localhost:8080/"
        },
        "id": "YxGRLNy8FGzz",
        "outputId": "b7bb352d-2831-4a8e-d0e2-0cc8c63bc504"
      },
      "execution_count": 3,
      "outputs": [
        {
          "output_type": "stream",
          "name": "stdout",
          "text": [
            "Found 1514 images belonging to 4 classes.\n",
            "Found 424 images belonging to 4 classes.\n",
            "Found 551 images belonging to 4 classes.\n"
          ]
        }
      ]
    },
    {
      "cell_type": "code",
      "source": [
        "# Contador de imagenes de cada folder\n",
        "def count(folder_path):\n",
        "    counting = 0\n",
        "\n",
        "    for root, dirs, files in os.walk(folder_path):\n",
        "        for file in files:\n",
        "          counting += 1\n",
        "\n",
        "    return counting"
      ],
      "metadata": {
        "id": "vt94kCXbK3bZ"
      },
      "execution_count": 4,
      "outputs": []
    },
    {
      "cell_type": "code",
      "source": [
        "def count_subfolder(subfolder_p):\n",
        "  total_images = 0\n",
        "\n",
        "  for subfolder in [\"daisy\", \"dandelion\", \"sunflower\", \"tulip\"]:\n",
        "    subfolder_path = os.path.join(subfolder_p, subfolder)\n",
        "    subfolder_images = count(subfolder_path)\n",
        "    print(f\"Númbero de imagenes en '{subfolder}': {subfolder_images}\")\n",
        "    total_images += subfolder_images"
      ],
      "metadata": {
        "id": "VFsrQoAW8rnD"
      },
      "execution_count": 5,
      "outputs": []
    },
    {
      "cell_type": "code",
      "source": [
        "print(\"Imagenes en la carpeta de Train\")\n",
        "count_subfolder(train_dir)\n",
        "print(\"\\nImagenes en la carpeta de Test\")\n",
        "count_subfolder(test_dir)\n",
        "print(\"\\nImagenes en la carpeta de Validation\")\n",
        "count_subfolder(validation_dir)"
      ],
      "metadata": {
        "colab": {
          "base_uri": "https://localhost:8080/"
        },
        "id": "nCA3Cx-79hWm",
        "outputId": "07a39af5-b959-43b4-d617-8ae4899f783a"
      },
      "execution_count": 6,
      "outputs": [
        {
          "output_type": "stream",
          "name": "stdout",
          "text": [
            "Imagenes en la carpeta de Train\n",
            "Númbero de imagenes en 'daisy': 357\n",
            "Númbero de imagenes en 'dandelion': 397\n",
            "Númbero de imagenes en 'sunflower': 374\n",
            "Númbero de imagenes en 'tulip': 386\n",
            "\n",
            "Imagenes en la carpeta de Test\n",
            "Númbero de imagenes en 'daisy': 148\n",
            "Númbero de imagenes en 'dandelion': 134\n",
            "Númbero de imagenes en 'sunflower': 138\n",
            "Númbero de imagenes en 'tulip': 136\n",
            "\n",
            "Imagenes en la carpeta de Validation\n",
            "Númbero de imagenes en 'daisy': 108\n",
            "Númbero de imagenes en 'dandelion': 101\n",
            "Númbero de imagenes en 'sunflower': 108\n",
            "Númbero de imagenes en 'tulip': 109\n"
          ]
        }
      ]
    },
    {
      "cell_type": "code",
      "source": [
        "class_labels = train_generator.class_indices\n",
        "class_labels"
      ],
      "metadata": {
        "id": "o_BugguqisyD",
        "outputId": "1f544aae-a0c8-4e0e-b939-c2b3f9d7eeec",
        "colab": {
          "base_uri": "https://localhost:8080/"
        }
      },
      "execution_count": 7,
      "outputs": [
        {
          "output_type": "execute_result",
          "data": {
            "text/plain": [
              "{'daisy': 0, 'dandelion': 1, 'sunflower': 2, 'tulip': 3}"
            ]
          },
          "metadata": {},
          "execution_count": 7
        }
      ]
    },
    {
      "cell_type": "markdown",
      "source": [
        "## Modelo 1"
      ],
      "metadata": {
        "id": "4S1ceHdUJlCj"
      }
    },
    {
      "cell_type": "code",
      "source": [
        "# Sequential convolutional neural network model\n",
        "model =  Sequential([\n",
        "    Conv2D(8, kernel_size=3, padding='same', activation=\"relu\", input_shape=(150,150,3)),\n",
        "    MaxPooling2D((2,2)),\n",
        "    Flatten(),\n",
        "    Dense(64, activation='relu'),\n",
        "    Dense(64, activation='relu'),\n",
        "    Dense(4, activation='softmax')\n",
        " ])"
      ],
      "metadata": {
        "id": "kMFOinVIJmpT"
      },
      "execution_count": 8,
      "outputs": []
    },
    {
      "cell_type": "code",
      "source": [
        "model.summary()"
      ],
      "metadata": {
        "colab": {
          "base_uri": "https://localhost:8080/"
        },
        "id": "XNMGgriWLjme",
        "outputId": "5589105c-3d7c-42d4-d4c6-2811f4d2e991"
      },
      "execution_count": 9,
      "outputs": [
        {
          "output_type": "stream",
          "name": "stdout",
          "text": [
            "Model: \"sequential\"\n",
            "_________________________________________________________________\n",
            " Layer (type)                Output Shape              Param #   \n",
            "=================================================================\n",
            " conv2d (Conv2D)             (None, 150, 150, 8)       224       \n",
            "                                                                 \n",
            " max_pooling2d (MaxPooling2  (None, 75, 75, 8)         0         \n",
            " D)                                                              \n",
            "                                                                 \n",
            " flatten (Flatten)           (None, 45000)             0         \n",
            "                                                                 \n",
            " dense (Dense)               (None, 64)                2880064   \n",
            "                                                                 \n",
            " dense_1 (Dense)             (None, 64)                4160      \n",
            "                                                                 \n",
            " dense_2 (Dense)             (None, 4)                 260       \n",
            "                                                                 \n",
            "=================================================================\n",
            "Total params: 2884708 (11.00 MB)\n",
            "Trainable params: 2884708 (11.00 MB)\n",
            "Non-trainable params: 0 (0.00 Byte)\n",
            "_________________________________________________________________\n"
          ]
        }
      ]
    },
    {
      "cell_type": "code",
      "source": [
        "model.compile(optimizer = 'adam',\n",
        "              loss = 'sparse_categorical_crossentropy',\n",
        "              metrics = ['accuracy']\n",
        "              )"
      ],
      "metadata": {
        "id": "wNYEKlfL-Cj3"
      },
      "execution_count": 10,
      "outputs": []
    },
    {
      "cell_type": "markdown",
      "source": [
        "### Entrenamiento"
      ],
      "metadata": {
        "id": "jP1I0gyL-VQb"
      }
    },
    {
      "cell_type": "code",
      "source": [
        "# Entrenamiento\n",
        "history = model.fit(train_generator,\n",
        "\t\t\t\tsteps_per_epoch = 10,\n",
        "\t\t\t\tepochs = 20,\n",
        "\t\t\t\tvalidation_data = val_generator,\n",
        "\t\t\t\tvalidation_steps = 5)"
      ],
      "metadata": {
        "colab": {
          "base_uri": "https://localhost:8080/"
        },
        "id": "qnrOGO6OLls6",
        "outputId": "2724a672-6ccc-4292-ab9c-aaff551c5700"
      },
      "execution_count": 19,
      "outputs": [
        {
          "output_type": "stream",
          "name": "stdout",
          "text": [
            "Epoch 1/20\n"
          ]
        },
        {
          "output_type": "stream",
          "name": "stderr",
          "text": [
            "/usr/local/lib/python3.10/dist-packages/keras/src/preprocessing/image.py:1862: UserWarning: This ImageDataGenerator specifies `featurewise_center`, but it hasn't been fit on any training data. Fit it first by calling `.fit(numpy_data)`.\n",
            "  warnings.warn(\n"
          ]
        },
        {
          "output_type": "stream",
          "name": "stdout",
          "text": [
            "10/10 [==============================] - 7s 736ms/step - loss: 4.0709 - accuracy: 0.7216 - val_loss: 15.5117 - val_accuracy: 0.5400\n",
            "Epoch 2/20\n",
            "10/10 [==============================] - 5s 493ms/step - loss: 2.3457 - accuracy: 0.7900 - val_loss: 4.6062 - val_accuracy: 0.6900\n",
            "Epoch 3/20\n",
            "10/10 [==============================] - 4s 454ms/step - loss: 2.1885 - accuracy: 0.7900 - val_loss: 6.3080 - val_accuracy: 0.6200\n",
            "Epoch 4/20\n",
            "10/10 [==============================] - 5s 493ms/step - loss: 1.7209 - accuracy: 0.8150 - val_loss: 6.8797 - val_accuracy: 0.6800\n",
            "Epoch 5/20\n",
            "10/10 [==============================] - 4s 368ms/step - loss: 1.3621 - accuracy: 0.8650 - val_loss: 5.6652 - val_accuracy: 0.6100\n",
            "Epoch 6/20\n",
            "10/10 [==============================] - 3s 347ms/step - loss: 0.9851 - accuracy: 0.8650 - val_loss: 5.3847 - val_accuracy: 0.6600\n",
            "Epoch 7/20\n",
            "10/10 [==============================] - 6s 653ms/step - loss: 0.6265 - accuracy: 0.9150 - val_loss: 10.3974 - val_accuracy: 0.6100\n",
            "Epoch 8/20\n",
            "10/10 [==============================] - 3s 307ms/step - loss: 1.6676 - accuracy: 0.8454 - val_loss: 6.8834 - val_accuracy: 0.5600\n",
            "Epoch 9/20\n",
            "10/10 [==============================] - 4s 382ms/step - loss: 1.5402 - accuracy: 0.8900 - val_loss: 10.0502 - val_accuracy: 0.5400\n",
            "Epoch 10/20\n",
            "10/10 [==============================] - 5s 449ms/step - loss: 0.7207 - accuracy: 0.9050 - val_loss: 5.0429 - val_accuracy: 0.6800\n",
            "Epoch 11/20\n",
            "10/10 [==============================] - 3s 351ms/step - loss: 0.6662 - accuracy: 0.8900 - val_loss: 4.1109 - val_accuracy: 0.6500\n",
            "Epoch 12/20\n",
            "10/10 [==============================] - 4s 354ms/step - loss: 0.4641 - accuracy: 0.9400 - val_loss: 7.5889 - val_accuracy: 0.5800\n",
            "Epoch 13/20\n",
            "10/10 [==============================] - 5s 510ms/step - loss: 0.3278 - accuracy: 0.9278 - val_loss: 5.6824 - val_accuracy: 0.6900\n",
            "Epoch 14/20\n",
            "10/10 [==============================] - 5s 476ms/step - loss: 0.2724 - accuracy: 0.9588 - val_loss: 5.8398 - val_accuracy: 0.6500\n",
            "Epoch 15/20\n",
            "10/10 [==============================] - 3s 332ms/step - loss: 0.4290 - accuracy: 0.9536 - val_loss: 5.8785 - val_accuracy: 0.6200\n",
            "Epoch 16/20\n",
            "10/10 [==============================] - 3s 342ms/step - loss: 0.3069 - accuracy: 0.9400 - val_loss: 3.4636 - val_accuracy: 0.6600\n",
            "Epoch 17/20\n",
            "10/10 [==============================] - 5s 474ms/step - loss: 0.4470 - accuracy: 0.9350 - val_loss: 4.2561 - val_accuracy: 0.7400\n",
            "Epoch 18/20\n",
            "10/10 [==============================] - 4s 439ms/step - loss: 0.3037 - accuracy: 0.9650 - val_loss: 3.6587 - val_accuracy: 0.6100\n",
            "Epoch 19/20\n",
            "10/10 [==============================] - 5s 541ms/step - loss: 0.1774 - accuracy: 0.9536 - val_loss: 3.5927 - val_accuracy: 0.7600\n",
            "Epoch 20/20\n",
            "10/10 [==============================] - 4s 451ms/step - loss: 0.8368 - accuracy: 0.8900 - val_loss: 5.0920 - val_accuracy: 0.6000\n"
          ]
        }
      ]
    },
    {
      "cell_type": "code",
      "source": [
        "'''# Se guarda el modelo\n",
        "model.save('FirstFlowers.h5')'''"
      ],
      "metadata": {
        "colab": {
          "base_uri": "https://localhost:8080/",
          "height": 35
        },
        "id": "KlWlgVfq5A2n",
        "outputId": "2a544d32-4035-40c6-9292-33dc8a5f5fdb"
      },
      "execution_count": 20,
      "outputs": [
        {
          "output_type": "execute_result",
          "data": {
            "text/plain": [
              "\"# Se guarda el modelo\\nmodel.save('FirstFlowers.h5')\""
            ],
            "application/vnd.google.colaboratory.intrinsic+json": {
              "type": "string"
            }
          },
          "metadata": {},
          "execution_count": 20
        }
      ]
    },
    {
      "cell_type": "code",
      "source": [
        "# Grafica del accuracy en train y en validation\n",
        "plt.plot(history.history['accuracy'], label='Training Accuracy')\n",
        "plt.plot(history.history['val_accuracy'], label='Validation Accuracy')\n",
        "plt.xlabel('Epochs')\n",
        "plt.ylabel('Accuracy')\n",
        "plt.legend()\n",
        "plt.show()"
      ],
      "metadata": {
        "colab": {
          "base_uri": "https://localhost:8080/",
          "height": 449
        },
        "id": "wzZK4Fo63wil",
        "outputId": "94ed2dd0-61bf-469b-e35f-9cc39fce044f"
      },
      "execution_count": 21,
      "outputs": [
        {
          "output_type": "display_data",
          "data": {
            "text/plain": [
              "<Figure size 640x480 with 1 Axes>"
            ],
            "image/png": "[encoded data removed]"
          },
          "metadata": {}
        }
      ]
    },
    {
      "cell_type": "markdown",
      "source": [
        "### Pruebas"
      ],
      "metadata": {
        "id": "bNXo-Y4yA_ip"
      }
    },
    {
      "cell_type": "code",
      "source": [
        "from sklearn.metrics import confusion_matrix\n",
        "import seaborn as sns"
      ],
      "metadata": {
        "id": "PEyqgnRmvh2a"
      },
      "execution_count": 22,
      "outputs": []
    },
    {
      "cell_type": "code",
      "source": [
        "# Realizar predicciones\n",
        "prediction = model.predict(test_generator)\n",
        "\n",
        "# Obtener true labels\n",
        "true_label = test_generator.classes\n",
        "\n",
        "# Obtener predicted labels\n",
        "predicted_label = np.argmax(prediction, axis=1)"
      ],
      "metadata": {
        "colab": {
          "base_uri": "https://localhost:8080/"
        },
        "id": "620nmauVxV5E",
        "outputId": "3e5780fa-d149-4d3c-bb34-aef8c1cba6f5"
      },
      "execution_count": 23,
      "outputs": [
        {
          "output_type": "stream",
          "name": "stdout",
          "text": [
            "28/28 [==============================] - 6s 214ms/step\n"
          ]
        }
      ]
    },
    {
      "cell_type": "code",
      "source": [
        "# Prueba con los datos de test\n",
        "test_loss, test_acc = model.evaluate(test_generator, steps = 10)\n",
        "print('\\nTest accuracy :\\n', test_acc)"
      ],
      "metadata": {
        "colab": {
          "base_uri": "https://localhost:8080/"
        },
        "id": "ggvcM_2xMP8X",
        "outputId": "dc5d611f-5132-4560-bdaa-fb653879d8e2"
      },
      "execution_count": 24,
      "outputs": [
        {
          "output_type": "stream",
          "name": "stdout",
          "text": [
            "10/10 [==============================] - 2s 175ms/step - loss: 4.2102 - accuracy: 0.6450\n",
            "\n",
            "Test accuracy :\n",
            " 0.6449999809265137\n"
          ]
        }
      ]
    },
    {
      "cell_type": "code",
      "source": [
        "# Matriz de confusión\n",
        "cMatrix = confusion_matrix(true_label, predicted_label)"
      ],
      "metadata": {
        "id": "gXb1sTDyxrnq"
      },
      "execution_count": 25,
      "outputs": []
    },
    {
      "cell_type": "code",
      "source": [
        "# Grafica de la matriz de confusión\n",
        "sns.heatmap(cMatrix, annot=True, fmt='d', cmap='Blues', cbar=False,\n",
        "            xticklabels=test_generator.class_indices.keys(),\n",
        "            yticklabels=test_generator.class_indices.keys())\n",
        "plt.title('Confusion Matrix')\n",
        "plt.xlabel('Predicted Labels')\n",
        "plt.ylabel('True Labels')\n",
        "plt.show()\n"
      ],
      "metadata": {
        "colab": {
          "base_uri": "https://localhost:8080/",
          "height": 472
        },
        "id": "mQn9r9zdxMiN",
        "outputId": "87b1214d-db48-459b-88d3-211d3d1171b0"
      },
      "execution_count": 27,
      "outputs": [
        {
          "output_type": "display_data",
          "data": {
            "text/plain": [
              "<Figure size 640x480 with 1 Axes>"
            ],
            "image/png": "[encoded data removed]"
          },
          "metadata": {}
        }
      ]
    }
  ]
}