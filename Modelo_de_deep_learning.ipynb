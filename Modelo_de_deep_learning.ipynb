{
  "nbformat": 4,
  "nbformat_minor": 0,
  "metadata": {
    "colab": {
      "provenance": []
    },
    "kernelspec": {
      "name": "python3",
      "display_name": "Python 3"
    },
    "language_info": {
      "name": "python"
    }
  },
  "cells": [
    {
      "cell_type": "code",
      "execution_count": 1,
      "metadata": {
        "colab": {
          "base_uri": "https://localhost:8080/"
        },
        "id": "5GieZ00_Edv2",
        "outputId": "eb3454fe-f5ca-4b8f-e12b-657d0d70455e"
      },
      "outputs": [
        {
          "output_type": "stream",
          "name": "stdout",
          "text": [
            "Mounted at /content/drive\n",
            "/content/drive/MyDrive/Concentracion AI/Modulo 2 Arq de Deep Learning/Entregable\n"
          ]
        }
      ],
      "source": [
        "# Conectar con Google Drive\n",
        "from google.colab import drive\n",
        "drive.mount('/content/drive')\n",
        "\n",
        "%cd \"/content/drive/MyDrive/Concentracion AI/Modulo 2 Arq de Deep Learning/Entregable\""
      ]
    },
    {
      "cell_type": "code",
      "source": [
        "# Importar la libreria\n",
        "import matplotlib.pyplot as plt\n",
        "import numpy as np\n",
        "import os\n",
        "import tensorflow as tf\n",
        "import pandas as pd\n",
        "\n",
        "from tensorflow.keras.models import Sequential\n",
        "from tensorflow.keras.layers import Dense, Flatten, Conv2D, MaxPooling2D\n",
        "from tensorflow.keras import models\n",
        "from tensorflow.keras import layers\n",
        "from tensorflow.keras.preprocessing.image import ImageDataGenerator\n",
        "from tensorflow.keras import optimizers"
      ],
      "metadata": {
        "id": "hqp_yE3RXonZ"
      },
      "execution_count": 2,
      "outputs": []
    },
    {
      "cell_type": "code",
      "source": [
        "# Data generators\n",
        "base_dir = 'Flowers'\n",
        "train_dir = os.path.join(base_dir,'train')\n",
        "validation_dir = os.path.join(base_dir, 'validation')\n",
        "test_dir = os.path.join(base_dir, 'test')\n",
        "\n",
        "train_datagen = ImageDataGenerator(1./255)\n",
        "\n",
        "train_generator = train_datagen.flow_from_directory(\n",
        "\t\t\t\t\t\t\ttrain_dir,\n",
        "\t\t\t\t\t\t\ttarget_size = (150, 150),\n",
        "\t\t\t\t\t\t\tbatch_size = 20,\n",
        "\t\t\t\t\t\t\tclass_mode ='sparse')\n",
        "\n",
        "val_datagen = ImageDataGenerator(1./255)\n",
        "\n",
        "val_generator = val_datagen.flow_from_directory(\n",
        "\t\t\t\t\tvalidation_dir,\n",
        "\t\t\t\t\ttarget_size = (150, 150),\n",
        "\t\t\t\t\tbatch_size = 20,\n",
        "\t\t\t\t\tclass_mode= 'sparse')\n",
        "\n",
        "test_datagen = ImageDataGenerator(1./255)\n",
        "\n",
        "test_generator = test_datagen.flow_from_directory(\n",
        "\t\t\t\t\t\t\ttest_dir,\n",
        "\t\t\t\t\t\t\ttarget_size = (150, 150),\n",
        "\t\t\t\t\t\t\tbatch_size = 20,\n",
        "\t\t\t\t\t\t\tclass_mode ='sparse')\n"
      ],
      "metadata": {
        "colab": {
          "base_uri": "https://localhost:8080/"
        },
        "id": "YxGRLNy8FGzz",
        "outputId": "d8582954-03ee-48b1-cfc7-bca795521e57"
      },
      "execution_count": 8,
      "outputs": [
        {
          "output_type": "stream",
          "name": "stdout",
          "text": [
            "Found 2230 images belonging to 5 classes.\n",
            "Found 485 images belonging to 5 classes.\n",
            "Found 459 images belonging to 5 classes.\n"
          ]
        }
      ]
    },
    {
      "cell_type": "code",
      "source": [
        "class_labels = train_generator.class_indices\n",
        "class_labels"
      ],
      "metadata": {
        "id": "o_BugguqisyD",
        "outputId": "3e2efcb5-a465-4b80-e971-043099897fb8",
        "colab": {
          "base_uri": "https://localhost:8080/"
        }
      },
      "execution_count": 9,
      "outputs": [
        {
          "output_type": "execute_result",
          "data": {
            "text/plain": [
              "{'daisy': 0, 'dandelion': 1, 'rose': 2, 'sunflower': 3, 'tulip': 4}"
            ]
          },
          "metadata": {},
          "execution_count": 9
        }
      ]
    },
    {
      "cell_type": "markdown",
      "source": [
        "## Modelo 1"
      ],
      "metadata": {
        "id": "u8J0F3J4JhVy"
      }
    },
    {
      "cell_type": "code",
      "source": [
        "# Sequential convolutional neural network model\n",
        "model = Sequential([\n",
        "    Conv2D(16, kernel_size=3, padding='same', strides = 2, activation=\"relu\", input_shape=(150,150,3)),\n",
        "    MaxPooling2D((3,3)),\n",
        "    Flatten(),\n",
        "    Dense(5, activation='softmax')\n",
        "])"
      ],
      "metadata": {
        "id": "HblkudDwRLMW"
      },
      "execution_count": 10,
      "outputs": []
    },
    {
      "cell_type": "code",
      "source": [
        "model.summary()"
      ],
      "metadata": {
        "colab": {
          "base_uri": "https://localhost:8080/"
        },
        "id": "7JPHUEK-X70F",
        "outputId": "d92612c0-6999-4954-a613-c02c3104e941"
      },
      "execution_count": 11,
      "outputs": [
        {
          "output_type": "stream",
          "name": "stdout",
          "text": [
            "Model: \"sequential\"\n",
            "_________________________________________________________________\n",
            " Layer (type)                Output Shape              Param #   \n",
            "=================================================================\n",
            " conv2d (Conv2D)             (None, 75, 75, 16)        448       \n",
            "                                                                 \n",
            " max_pooling2d (MaxPooling2  (None, 25, 25, 16)        0         \n",
            " D)                                                              \n",
            "                                                                 \n",
            " flatten (Flatten)           (None, 10000)             0         \n",
            "                                                                 \n",
            " dense (Dense)               (None, 5)                 50005     \n",
            "                                                                 \n",
            "=================================================================\n",
            "Total params: 50453 (197.08 KB)\n",
            "Trainable params: 50453 (197.08 KB)\n",
            "Non-trainable params: 0 (0.00 Byte)\n",
            "_________________________________________________________________\n"
          ]
        }
      ]
    },
    {
      "cell_type": "code",
      "source": [
        "model.compile(optimizer = 'adam',\n",
        "              loss = 'sparse_categorical_crossentropy',\n",
        "              metrics = ['accuracy']\n",
        "              )"
      ],
      "metadata": {
        "id": "47KKEdz4YGt7"
      },
      "execution_count": 12,
      "outputs": []
    },
    {
      "cell_type": "code",
      "source": [
        "# Entrenamiento\n",
        "history = model.fit(train_generator,\n",
        "\t\t\t\tsteps_per_epoch = 10,\n",
        "\t\t\t\tepochs = 50,\n",
        "\t\t\t\tvalidation_data = val_generator,\n",
        "\t\t\t\tvalidation_steps = 5\n",
        "        )"
      ],
      "metadata": {
        "colab": {
          "base_uri": "https://localhost:8080/"
        },
        "id": "2YceakyFX05L",
        "outputId": "2cbd7bbb-6e20-4992-cbce-c6bf3b986a2b"
      },
      "execution_count": 14,
      "outputs": [
        {
          "output_type": "stream",
          "name": "stdout",
          "text": [
            "Epoch 1/50\n",
            "10/10 [==============================] - 94s 10s/step - loss: 7.6419 - accuracy: 0.3350 - val_loss: 5.9673 - val_accuracy: 0.4100\n",
            "Epoch 2/50\n",
            "10/10 [==============================] - 81s 8s/step - loss: 6.8236 - accuracy: 0.3053 - val_loss: 7.2210 - val_accuracy: 0.3100\n",
            "Epoch 3/50\n",
            "10/10 [==============================] - 74s 8s/step - loss: 3.6665 - accuracy: 0.4650 - val_loss: 5.1279 - val_accuracy: 0.2300\n",
            "Epoch 4/50\n",
            "10/10 [==============================] - 55s 6s/step - loss: 4.0189 - accuracy: 0.4400 - val_loss: 4.8166 - val_accuracy: 0.3300\n",
            "Epoch 5/50\n",
            "10/10 [==============================] - 47s 5s/step - loss: 3.3838 - accuracy: 0.4211 - val_loss: 3.9644 - val_accuracy: 0.3600\n",
            "Epoch 6/50\n",
            "10/10 [==============================] - 38s 4s/step - loss: 2.4400 - accuracy: 0.4700 - val_loss: 3.8974 - val_accuracy: 0.3000\n",
            "Epoch 7/50\n",
            "10/10 [==============================] - 34s 4s/step - loss: 2.5796 - accuracy: 0.4550 - val_loss: 4.0504 - val_accuracy: 0.3100\n",
            "Epoch 8/50\n",
            "10/10 [==============================] - 26s 3s/step - loss: 2.5596 - accuracy: 0.5150 - val_loss: 3.8511 - val_accuracy: 0.3400\n",
            "Epoch 9/50\n",
            "10/10 [==============================] - 21s 2s/step - loss: 2.0285 - accuracy: 0.5053 - val_loss: 3.3131 - val_accuracy: 0.3800\n",
            "Epoch 10/50\n",
            "10/10 [==============================] - 29s 3s/step - loss: 1.7254 - accuracy: 0.5500 - val_loss: 3.3258 - val_accuracy: 0.3300\n",
            "Epoch 11/50\n",
            "10/10 [==============================] - 18s 2s/step - loss: 1.6503 - accuracy: 0.5750 - val_loss: 3.1734 - val_accuracy: 0.3400\n",
            "Epoch 12/50\n",
            "10/10 [==============================] - 16s 2s/step - loss: 1.9717 - accuracy: 0.5600 - val_loss: 3.1560 - val_accuracy: 0.3500\n",
            "Epoch 13/50\n",
            "10/10 [==============================] - 11s 1s/step - loss: 1.4989 - accuracy: 0.5900 - val_loss: 2.8244 - val_accuracy: 0.3600\n",
            "Epoch 14/50\n",
            "10/10 [==============================] - 11s 1s/step - loss: 1.5243 - accuracy: 0.6150 - val_loss: 3.4890 - val_accuracy: 0.3300\n",
            "Epoch 15/50\n",
            "10/10 [==============================] - 13s 1s/step - loss: 1.4236 - accuracy: 0.6050 - val_loss: 3.0103 - val_accuracy: 0.2800\n",
            "Epoch 16/50\n",
            "10/10 [==============================] - 13s 1s/step - loss: 1.4606 - accuracy: 0.6500 - val_loss: 2.7873 - val_accuracy: 0.3200\n",
            "Epoch 17/50\n",
            "10/10 [==============================] - 9s 918ms/step - loss: 1.5654 - accuracy: 0.5900 - val_loss: 3.3844 - val_accuracy: 0.3300\n",
            "Epoch 18/50\n",
            "10/10 [==============================] - 8s 858ms/step - loss: 1.4388 - accuracy: 0.6300 - val_loss: 3.5257 - val_accuracy: 0.3100\n",
            "Epoch 19/50\n",
            "10/10 [==============================] - 7s 712ms/step - loss: 1.0859 - accuracy: 0.6650 - val_loss: 3.0299 - val_accuracy: 0.3200\n",
            "Epoch 20/50\n",
            "10/10 [==============================] - 7s 752ms/step - loss: 1.4347 - accuracy: 0.6600 - val_loss: 3.2743 - val_accuracy: 0.3400\n",
            "Epoch 21/50\n",
            "10/10 [==============================] - 5s 538ms/step - loss: 1.0975 - accuracy: 0.6474 - val_loss: 2.8763 - val_accuracy: 0.3800\n",
            "Epoch 22/50\n",
            "10/10 [==============================] - 12s 1s/step - loss: 0.9457 - accuracy: 0.6800 - val_loss: 2.8281 - val_accuracy: 0.3500\n",
            "Epoch 23/50\n",
            "10/10 [==============================] - 5s 451ms/step - loss: 1.0417 - accuracy: 0.6737 - val_loss: 3.6140 - val_accuracy: 0.3000\n",
            "Epoch 24/50\n",
            "10/10 [==============================] - 4s 444ms/step - loss: 0.8892 - accuracy: 0.6500 - val_loss: 2.8343 - val_accuracy: 0.3100\n",
            "Epoch 25/50\n",
            "10/10 [==============================] - 6s 577ms/step - loss: 0.8777 - accuracy: 0.6900 - val_loss: 2.8882 - val_accuracy: 0.3200\n",
            "Epoch 26/50\n",
            "10/10 [==============================] - 4s 400ms/step - loss: 0.9082 - accuracy: 0.6600 - val_loss: 2.8345 - val_accuracy: 0.3800\n",
            "Epoch 27/50\n",
            "10/10 [==============================] - 4s 426ms/step - loss: 0.8768 - accuracy: 0.6900 - val_loss: 2.4315 - val_accuracy: 0.4200\n",
            "Epoch 28/50\n",
            "10/10 [==============================] - 4s 472ms/step - loss: 0.6696 - accuracy: 0.7600 - val_loss: 3.3573 - val_accuracy: 0.3600\n",
            "Epoch 29/50\n",
            "10/10 [==============================] - 3s 293ms/step - loss: 0.7952 - accuracy: 0.7550 - val_loss: 3.3248 - val_accuracy: 0.3100\n",
            "Epoch 30/50\n",
            "10/10 [==============================] - 3s 311ms/step - loss: 0.6339 - accuracy: 0.7650 - val_loss: 3.3764 - val_accuracy: 0.3400\n",
            "Epoch 31/50\n",
            "10/10 [==============================] - 4s 381ms/step - loss: 0.6575 - accuracy: 0.7526 - val_loss: 3.0896 - val_accuracy: 0.3600\n",
            "Epoch 32/50\n",
            "10/10 [==============================] - 2s 244ms/step - loss: 0.7013 - accuracy: 0.7250 - val_loss: 3.5758 - val_accuracy: 0.3300\n",
            "Epoch 33/50\n",
            "10/10 [==============================] - 3s 272ms/step - loss: 0.6692 - accuracy: 0.8150 - val_loss: 3.5571 - val_accuracy: 0.3700\n",
            "Epoch 34/50\n",
            "10/10 [==============================] - 3s 287ms/step - loss: 0.5773 - accuracy: 0.8050 - val_loss: 2.9892 - val_accuracy: 0.3400\n",
            "Epoch 35/50\n",
            "10/10 [==============================] - 3s 318ms/step - loss: 0.5317 - accuracy: 0.8000 - val_loss: 2.6629 - val_accuracy: 0.4100\n",
            "Epoch 36/50\n",
            "10/10 [==============================] - 2s 225ms/step - loss: 0.6207 - accuracy: 0.8000 - val_loss: 3.6447 - val_accuracy: 0.3900\n",
            "Epoch 37/50\n",
            "10/10 [==============================] - 3s 277ms/step - loss: 0.5687 - accuracy: 0.8050 - val_loss: 3.4773 - val_accuracy: 0.3900\n",
            "Epoch 38/50\n",
            "10/10 [==============================] - 3s 310ms/step - loss: 0.7971 - accuracy: 0.8300 - val_loss: 3.5259 - val_accuracy: 0.3700\n",
            "Epoch 39/50\n",
            "10/10 [==============================] - 2s 217ms/step - loss: 0.6690 - accuracy: 0.8150 - val_loss: 3.8358 - val_accuracy: 0.3300\n",
            "Epoch 40/50\n",
            "10/10 [==============================] - 2s 213ms/step - loss: 0.5110 - accuracy: 0.8100 - val_loss: 2.9486 - val_accuracy: 0.3300\n",
            "Epoch 41/50\n",
            "10/10 [==============================] - 2s 207ms/step - loss: 0.4767 - accuracy: 0.8500 - val_loss: 3.7515 - val_accuracy: 0.4000\n",
            "Epoch 42/50\n",
            "10/10 [==============================] - 2s 174ms/step - loss: 0.5223 - accuracy: 0.8421 - val_loss: 2.7547 - val_accuracy: 0.3900\n",
            "Epoch 43/50\n",
            "10/10 [==============================] - 3s 316ms/step - loss: 0.5497 - accuracy: 0.8200 - val_loss: 3.1652 - val_accuracy: 0.4400\n",
            "Epoch 44/50\n",
            "10/10 [==============================] - 2s 241ms/step - loss: 0.4426 - accuracy: 0.8550 - val_loss: 3.3718 - val_accuracy: 0.4000\n",
            "Epoch 45/50\n",
            "10/10 [==============================] - 2s 223ms/step - loss: 0.4677 - accuracy: 0.8700 - val_loss: 4.0631 - val_accuracy: 0.3600\n",
            "Epoch 46/50\n",
            "10/10 [==============================] - 2s 197ms/step - loss: 0.4634 - accuracy: 0.8400 - val_loss: 3.3662 - val_accuracy: 0.4300\n",
            "Epoch 47/50\n",
            "10/10 [==============================] - 2s 179ms/step - loss: 0.3637 - accuracy: 0.8800 - val_loss: 3.4578 - val_accuracy: 0.3100\n",
            "Epoch 48/50\n",
            "10/10 [==============================] - 3s 274ms/step - loss: 0.3055 - accuracy: 0.8850 - val_loss: 3.1190 - val_accuracy: 0.4200\n",
            "Epoch 49/50\n",
            "10/10 [==============================] - 2s 184ms/step - loss: 0.3871 - accuracy: 0.8650 - val_loss: 3.1353 - val_accuracy: 0.3700\n",
            "Epoch 50/50\n",
            "10/10 [==============================] - 2s 177ms/step - loss: 0.3677 - accuracy: 0.9000 - val_loss: 3.2830 - val_accuracy: 0.4800\n"
          ]
        }
      ]
    },
    {
      "cell_type": "code",
      "source": [
        "df = pd.DataFrame(history.history)"
      ],
      "metadata": {
        "id": "2sD1BIPvDo0s"
      },
      "execution_count": 16,
      "outputs": []
    },
    {
      "cell_type": "code",
      "source": [
        "# Gráfica de Loss vs Epoch\n",
        "df.plot( y = \"loss\", title = \"Loss vs Epoch\")"
      ],
      "metadata": {
        "colab": {
          "base_uri": "https://localhost:8080/",
          "height": 469
        },
        "id": "sNSTt-zaEY5E",
        "outputId": "0f2a66c2-a690-4f86-f7de-c5773d518541"
      },
      "execution_count": 17,
      "outputs": [
        {
          "output_type": "execute_result",
          "data": {
            "text/plain": [
              "<Axes: title={'center': 'Loss vs Epoch'}>"
            ]
          },
          "metadata": {},
          "execution_count": 17
        },
        {
          "output_type": "display_data",
          "data": {
            "text/plain": [
              "<Figure size 640x480 with 1 Axes>"
            ],
            "image/png": "[encoded data removed]"
          },
          "metadata": {}
        }
      ]
    },
    {
      "cell_type": "code",
      "source": [
        "# Gráfica de Accuracy vs Epoch\n",
        "df.plot( y = \"accuracy\", title = \"accuracy vs Epoch\")"
      ],
      "metadata": {
        "colab": {
          "base_uri": "https://localhost:8080/",
          "height": 469
        },
        "id": "Rs0QjDkHEZhK",
        "outputId": "5d8455ba-5cd9-407b-8ffe-9887065bc37f"
      },
      "execution_count": 18,
      "outputs": [
        {
          "output_type": "execute_result",
          "data": {
            "text/plain": [
              "<Axes: title={'center': 'accuracy vs Epoch'}>"
            ]
          },
          "metadata": {},
          "execution_count": 18
        },
        {
          "output_type": "display_data",
          "data": {
            "text/plain": [
              "<Figure size 640x480 with 1 Axes>"
            ],
            "image/png": "[encoded data removed]"
          },
          "metadata": {}
        }
      ]
    },
    {
      "cell_type": "code",
      "source": [
        "# Prueba con los datos de test\n",
        "test_loss, test_acc = model.evaluate(test_generator, steps = 10)\n",
        "print('\\ntest acc :\\n', test_acc)"
      ],
      "metadata": {
        "colab": {
          "base_uri": "https://localhost:8080/"
        },
        "id": "Z2OVcrp2E1I9",
        "outputId": "d0c6832e-d0cd-4128-97e4-8284c6048de6"
      },
      "execution_count": 19,
      "outputs": [
        {
          "output_type": "stream",
          "name": "stderr",
          "text": [
            "/usr/local/lib/python3.10/dist-packages/keras/src/preprocessing/image.py:1862: UserWarning: This ImageDataGenerator specifies `featurewise_center`, but it hasn't been fit on any training data. Fit it first by calling `.fit(numpy_data)`.\n",
            "  warnings.warn(\n"
          ]
        },
        {
          "output_type": "stream",
          "name": "stdout",
          "text": [
            "10/10 [==============================] - 57s 6s/step - loss: 2.8985 - accuracy: 0.4400\n",
            "\n",
            "test acc :\n",
            " 0.4399999976158142\n"
          ]
        }
      ]
    },
    {
      "cell_type": "markdown",
      "source": [
        "## Modelo 2"
      ],
      "metadata": {
        "id": "4S1ceHdUJlCj"
      }
    },
    {
      "cell_type": "markdown",
      "source": [
        "Se agregaron capas densas y se modificó el Max Pooling"
      ],
      "metadata": {
        "id": "B3xhV7SuIdgI"
      }
    },
    {
      "cell_type": "code",
      "source": [
        "# Sequential convolutional neural network model\n",
        "model2 =  Sequential([\n",
        "    Conv2D(8, kernel_size=3, padding='same', activation=\"relu\", input_shape=(150,150,3)),\n",
        "    MaxPooling2D((2,2)),\n",
        "    Flatten(),\n",
        "    Dense(64, activation='relu'),\n",
        "    Dense(64, activation='relu'),\n",
        "    Dense(5, activation='softmax')\n",
        " ])"
      ],
      "metadata": {
        "id": "kMFOinVIJmpT"
      },
      "execution_count": 20,
      "outputs": []
    },
    {
      "cell_type": "code",
      "source": [
        "model2.summary()"
      ],
      "metadata": {
        "colab": {
          "base_uri": "https://localhost:8080/"
        },
        "id": "XNMGgriWLjme",
        "outputId": "256247bb-c861-435e-8c91-1b9e532cc8cc"
      },
      "execution_count": 21,
      "outputs": [
        {
          "output_type": "stream",
          "name": "stdout",
          "text": [
            "Model: \"sequential_1\"\n",
            "_________________________________________________________________\n",
            " Layer (type)                Output Shape              Param #   \n",
            "=================================================================\n",
            " conv2d_1 (Conv2D)           (None, 150, 150, 8)       224       \n",
            "                                                                 \n",
            " max_pooling2d_1 (MaxPoolin  (None, 75, 75, 8)         0         \n",
            " g2D)                                                            \n",
            "                                                                 \n",
            " flatten_1 (Flatten)         (None, 45000)             0         \n",
            "                                                                 \n",
            " dense_1 (Dense)             (None, 64)                2880064   \n",
            "                                                                 \n",
            " dense_2 (Dense)             (None, 64)                4160      \n",
            "                                                                 \n",
            " dense_3 (Dense)             (None, 5)                 325       \n",
            "                                                                 \n",
            "=================================================================\n",
            "Total params: 2884773 (11.00 MB)\n",
            "Trainable params: 2884773 (11.00 MB)\n",
            "Non-trainable params: 0 (0.00 Byte)\n",
            "_________________________________________________________________\n"
          ]
        }
      ]
    },
    {
      "cell_type": "code",
      "source": [
        "model2.compile(optimizer = 'adam',\n",
        "              loss = 'sparse_categorical_crossentropy',\n",
        "              metrics = ['accuracy']\n",
        "              )"
      ],
      "metadata": {
        "id": "wNYEKlfL-Cj3"
      },
      "execution_count": 23,
      "outputs": []
    },
    {
      "cell_type": "code",
      "source": [
        "# Entrenamiento\n",
        "history2 = model2.fit(train_generator,\n",
        "\t\t\t\tsteps_per_epoch = 10,\n",
        "\t\t\t\tepochs = 60,\n",
        "\t\t\t\tvalidation_data = val_generator,\n",
        "\t\t\t\tvalidation_steps = 5)"
      ],
      "metadata": {
        "colab": {
          "base_uri": "https://localhost:8080/"
        },
        "id": "qnrOGO6OLls6",
        "outputId": "38a6fc55-7012-4ed6-a89c-7fbc3edaffa1"
      },
      "execution_count": 24,
      "outputs": [
        {
          "output_type": "stream",
          "name": "stdout",
          "text": [
            "Epoch 1/60\n"
          ]
        },
        {
          "output_type": "stream",
          "name": "stderr",
          "text": [
            "/usr/local/lib/python3.10/dist-packages/keras/src/preprocessing/image.py:1862: UserWarning: This ImageDataGenerator specifies `featurewise_center`, but it hasn't been fit on any training data. Fit it first by calling `.fit(numpy_data)`.\n",
            "  warnings.warn(\n"
          ]
        },
        {
          "output_type": "stream",
          "name": "stdout",
          "text": [
            "10/10 [==============================] - 6s 395ms/step - loss: 465.7367 - accuracy: 0.3000 - val_loss: 60.5941 - val_accuracy: 0.2300\n",
            "Epoch 2/60\n",
            "10/10 [==============================] - 4s 427ms/step - loss: 61.3330 - accuracy: 0.2600 - val_loss: 102.9319 - val_accuracy: 0.2500\n",
            "Epoch 3/60\n",
            "10/10 [==============================] - 4s 451ms/step - loss: 70.1592 - accuracy: 0.2850 - val_loss: 117.3535 - val_accuracy: 0.1600\n",
            "Epoch 4/60\n",
            "10/10 [==============================] - 4s 355ms/step - loss: 62.1981 - accuracy: 0.3000 - val_loss: 20.2074 - val_accuracy: 0.3100\n",
            "Epoch 5/60\n",
            "10/10 [==============================] - 4s 384ms/step - loss: 21.2879 - accuracy: 0.3150 - val_loss: 17.3522 - val_accuracy: 0.3700\n",
            "Epoch 6/60\n",
            "10/10 [==============================] - 3s 301ms/step - loss: 12.6173 - accuracy: 0.3895 - val_loss: 18.9288 - val_accuracy: 0.2700\n",
            "Epoch 7/60\n",
            "10/10 [==============================] - 4s 382ms/step - loss: 10.2914 - accuracy: 0.4300 - val_loss: 8.3539 - val_accuracy: 0.4000\n",
            "Epoch 8/60\n",
            "10/10 [==============================] - 3s 297ms/step - loss: 4.6867 - accuracy: 0.5250 - val_loss: 7.5418 - val_accuracy: 0.3900\n",
            "Epoch 9/60\n",
            "10/10 [==============================] - 3s 316ms/step - loss: 4.0647 - accuracy: 0.5000 - val_loss: 5.5068 - val_accuracy: 0.3600\n",
            "Epoch 10/60\n",
            "10/10 [==============================] - 5s 570ms/step - loss: 5.1294 - accuracy: 0.4650 - val_loss: 5.4279 - val_accuracy: 0.4600\n",
            "Epoch 11/60\n",
            "10/10 [==============================] - 4s 387ms/step - loss: 4.3246 - accuracy: 0.5200 - val_loss: 6.1932 - val_accuracy: 0.3000\n",
            "Epoch 12/60\n",
            "10/10 [==============================] - 4s 366ms/step - loss: 4.1799 - accuracy: 0.4850 - val_loss: 7.0941 - val_accuracy: 0.3100\n",
            "Epoch 13/60\n",
            "10/10 [==============================] - 4s 380ms/step - loss: 4.1911 - accuracy: 0.5100 - val_loss: 8.3967 - val_accuracy: 0.3400\n",
            "Epoch 14/60\n",
            "10/10 [==============================] - 4s 404ms/step - loss: 3.1696 - accuracy: 0.5600 - val_loss: 5.9021 - val_accuracy: 0.3500\n",
            "Epoch 15/60\n",
            "10/10 [==============================] - 4s 368ms/step - loss: 3.7404 - accuracy: 0.5368 - val_loss: 5.2721 - val_accuracy: 0.4000\n",
            "Epoch 16/60\n",
            "10/10 [==============================] - 4s 363ms/step - loss: 3.6179 - accuracy: 0.6200 - val_loss: 5.2834 - val_accuracy: 0.3200\n",
            "Epoch 17/60\n",
            "10/10 [==============================] - 5s 469ms/step - loss: 2.3855 - accuracy: 0.5895 - val_loss: 6.0661 - val_accuracy: 0.3600\n",
            "Epoch 18/60\n",
            "10/10 [==============================] - 4s 387ms/step - loss: 2.5216 - accuracy: 0.5800 - val_loss: 4.5219 - val_accuracy: 0.4100\n",
            "Epoch 19/60\n",
            "10/10 [==============================] - 4s 387ms/step - loss: 1.7089 - accuracy: 0.6900 - val_loss: 2.9755 - val_accuracy: 0.4000\n",
            "Epoch 20/60\n",
            "10/10 [==============================] - 4s 413ms/step - loss: 1.6179 - accuracy: 0.6850 - val_loss: 3.1318 - val_accuracy: 0.4400\n",
            "Epoch 21/60\n",
            "10/10 [==============================] - 3s 315ms/step - loss: 1.4350 - accuracy: 0.6950 - val_loss: 3.3934 - val_accuracy: 0.4500\n",
            "Epoch 22/60\n",
            "10/10 [==============================] - 4s 358ms/step - loss: 1.0064 - accuracy: 0.7200 - val_loss: 2.6959 - val_accuracy: 0.4600\n",
            "Epoch 23/60\n",
            "10/10 [==============================] - 5s 512ms/step - loss: 0.9791 - accuracy: 0.7900 - val_loss: 3.7100 - val_accuracy: 0.4500\n",
            "Epoch 24/60\n",
            "10/10 [==============================] - 3s 311ms/step - loss: 1.2183 - accuracy: 0.7200 - val_loss: 3.5737 - val_accuracy: 0.3900\n",
            "Epoch 25/60\n",
            "10/10 [==============================] - 3s 312ms/step - loss: 0.7980 - accuracy: 0.7800 - val_loss: 2.0440 - val_accuracy: 0.4700\n",
            "Epoch 26/60\n",
            "10/10 [==============================] - 5s 472ms/step - loss: 1.1383 - accuracy: 0.7200 - val_loss: 3.4914 - val_accuracy: 0.4300\n",
            "Epoch 27/60\n",
            "10/10 [==============================] - 4s 356ms/step - loss: 1.0588 - accuracy: 0.7400 - val_loss: 3.4951 - val_accuracy: 0.3600\n",
            "Epoch 28/60\n",
            "10/10 [==============================] - 3s 315ms/step - loss: 1.1137 - accuracy: 0.7650 - val_loss: 3.7627 - val_accuracy: 0.3800\n",
            "Epoch 29/60\n",
            "10/10 [==============================] - 3s 301ms/step - loss: 0.8239 - accuracy: 0.8400 - val_loss: 3.6073 - val_accuracy: 0.4000\n",
            "Epoch 30/60\n",
            "10/10 [==============================] - 4s 391ms/step - loss: 0.5499 - accuracy: 0.8500 - val_loss: 2.1994 - val_accuracy: 0.5500\n",
            "Epoch 31/60\n",
            "10/10 [==============================] - 4s 386ms/step - loss: 0.7031 - accuracy: 0.8700 - val_loss: 3.0846 - val_accuracy: 0.4300\n",
            "Epoch 32/60\n",
            "10/10 [==============================] - 4s 364ms/step - loss: 0.4045 - accuracy: 0.8700 - val_loss: 3.1370 - val_accuracy: 0.4400\n",
            "Epoch 33/60\n",
            "10/10 [==============================] - 3s 296ms/step - loss: 0.6683 - accuracy: 0.8500 - val_loss: 3.5401 - val_accuracy: 0.4600\n",
            "Epoch 34/60\n",
            "10/10 [==============================] - 3s 286ms/step - loss: 1.5975 - accuracy: 0.8150 - val_loss: 2.1273 - val_accuracy: 0.4600\n",
            "Epoch 35/60\n",
            "10/10 [==============================] - 4s 362ms/step - loss: 1.1515 - accuracy: 0.8650 - val_loss: 4.7264 - val_accuracy: 0.3600\n",
            "Epoch 36/60\n",
            "10/10 [==============================] - 5s 454ms/step - loss: 1.4529 - accuracy: 0.7200 - val_loss: 3.9400 - val_accuracy: 0.4000\n",
            "Epoch 37/60\n",
            "10/10 [==============================] - 4s 394ms/step - loss: 0.5865 - accuracy: 0.8650 - val_loss: 3.8927 - val_accuracy: 0.4000\n",
            "Epoch 38/60\n",
            "10/10 [==============================] - 4s 449ms/step - loss: 0.9230 - accuracy: 0.8100 - val_loss: 2.8429 - val_accuracy: 0.4400\n",
            "Epoch 39/60\n",
            "10/10 [==============================] - 4s 319ms/step - loss: 0.6931 - accuracy: 0.8450 - val_loss: 3.5722 - val_accuracy: 0.3700\n",
            "Epoch 40/60\n",
            "10/10 [==============================] - 3s 276ms/step - loss: 0.8158 - accuracy: 0.8650 - val_loss: 3.6883 - val_accuracy: 0.4400\n",
            "Epoch 41/60\n",
            "10/10 [==============================] - 3s 291ms/step - loss: 0.5873 - accuracy: 0.8650 - val_loss: 2.7538 - val_accuracy: 0.4400\n",
            "Epoch 42/60\n",
            "10/10 [==============================] - 5s 545ms/step - loss: 0.5688 - accuracy: 0.8450 - val_loss: 4.3528 - val_accuracy: 0.4000\n",
            "Epoch 43/60\n",
            "10/10 [==============================] - 3s 299ms/step - loss: 0.5156 - accuracy: 0.8600 - val_loss: 3.3557 - val_accuracy: 0.4700\n",
            "Epoch 44/60\n",
            "10/10 [==============================] - 4s 376ms/step - loss: 0.8873 - accuracy: 0.8000 - val_loss: 4.7907 - val_accuracy: 0.3300\n",
            "Epoch 45/60\n",
            "10/10 [==============================] - 4s 422ms/step - loss: 0.5901 - accuracy: 0.8200 - val_loss: 2.3285 - val_accuracy: 0.5200\n",
            "Epoch 46/60\n",
            "10/10 [==============================] - 4s 402ms/step - loss: 0.3977 - accuracy: 0.8700 - val_loss: 2.2882 - val_accuracy: 0.4400\n",
            "Epoch 47/60\n",
            "10/10 [==============================] - 3s 291ms/step - loss: 0.5691 - accuracy: 0.9000 - val_loss: 3.0278 - val_accuracy: 0.5600\n",
            "Epoch 48/60\n",
            "10/10 [==============================] - 4s 360ms/step - loss: 0.7192 - accuracy: 0.8800 - val_loss: 4.1877 - val_accuracy: 0.3900\n",
            "Epoch 49/60\n",
            "10/10 [==============================] - 4s 391ms/step - loss: 1.2379 - accuracy: 0.8550 - val_loss: 3.2995 - val_accuracy: 0.5700\n",
            "Epoch 50/60\n",
            "10/10 [==============================] - 4s 414ms/step - loss: 0.5870 - accuracy: 0.8500 - val_loss: 5.5684 - val_accuracy: 0.4300\n",
            "Epoch 51/60\n",
            "10/10 [==============================] - 3s 352ms/step - loss: 0.8515 - accuracy: 0.8250 - val_loss: 5.4224 - val_accuracy: 0.3700\n",
            "Epoch 52/60\n",
            "10/10 [==============================] - 3s 313ms/step - loss: 0.8269 - accuracy: 0.8400 - val_loss: 4.0403 - val_accuracy: 0.4400\n",
            "Epoch 53/60\n",
            "10/10 [==============================] - 5s 504ms/step - loss: 0.5205 - accuracy: 0.8900 - val_loss: 3.8732 - val_accuracy: 0.3800\n",
            "Epoch 54/60\n",
            "10/10 [==============================] - 3s 327ms/step - loss: 0.3888 - accuracy: 0.9100 - val_loss: 4.4972 - val_accuracy: 0.4000\n",
            "Epoch 55/60\n",
            "10/10 [==============================] - 4s 375ms/step - loss: 0.4423 - accuracy: 0.9050 - val_loss: 2.7339 - val_accuracy: 0.5300\n",
            "Epoch 56/60\n",
            "10/10 [==============================] - 3s 291ms/step - loss: 0.2681 - accuracy: 0.9000 - val_loss: 3.1211 - val_accuracy: 0.3800\n",
            "Epoch 57/60\n",
            "10/10 [==============================] - 4s 382ms/step - loss: 0.3267 - accuracy: 0.9450 - val_loss: 3.4996 - val_accuracy: 0.4900\n",
            "Epoch 58/60\n",
            "10/10 [==============================] - 3s 282ms/step - loss: 0.3512 - accuracy: 0.8900 - val_loss: 3.0367 - val_accuracy: 0.5300\n",
            "Epoch 59/60\n",
            "10/10 [==============================] - 3s 308ms/step - loss: 0.4688 - accuracy: 0.9300 - val_loss: 2.6364 - val_accuracy: 0.5400\n",
            "Epoch 60/60\n",
            "10/10 [==============================] - 4s 343ms/step - loss: 0.3095 - accuracy: 0.9500 - val_loss: 3.4880 - val_accuracy: 0.5300\n"
          ]
        }
      ]
    },
    {
      "cell_type": "code",
      "source": [
        "# Se guarda el modelo\n",
        "model2.save('flowers.h5')"
      ],
      "metadata": {
        "colab": {
          "base_uri": "https://localhost:8080/"
        },
        "id": "KlWlgVfq5A2n",
        "outputId": "989a221c-759c-4022-f9cf-44fda7adc2f8"
      },
      "execution_count": 26,
      "outputs": [
        {
          "output_type": "stream",
          "name": "stderr",
          "text": [
            "/usr/local/lib/python3.10/dist-packages/keras/src/engine/training.py:3079: UserWarning: You are saving your model as an HDF5 file via `model.save()`. This file format is considered legacy. We recommend using instead the native Keras format, e.g. `model.save('my_model.keras')`.\n",
            "  saving_api.save_model(\n"
          ]
        }
      ]
    },
    {
      "cell_type": "code",
      "source": [
        "# Prueba con los datos de test\n",
        "test_loss, test_acc = model2.evaluate(test_generator, steps = 20)\n",
        "print('\\ntest acc :\\n', test_acc)"
      ],
      "metadata": {
        "colab": {
          "base_uri": "https://localhost:8080/"
        },
        "id": "ggvcM_2xMP8X",
        "outputId": "23461a14-fe30-49eb-a9d5-4ab9b75b2e37"
      },
      "execution_count": 25,
      "outputs": [
        {
          "output_type": "stream",
          "name": "stderr",
          "text": [
            "/usr/local/lib/python3.10/dist-packages/keras/src/preprocessing/image.py:1862: UserWarning: This ImageDataGenerator specifies `featurewise_center`, but it hasn't been fit on any training data. Fit it first by calling `.fit(numpy_data)`.\n",
            "  warnings.warn(\n"
          ]
        },
        {
          "output_type": "stream",
          "name": "stdout",
          "text": [
            "20/20 [==============================] - 62s 3s/step - loss: 2.8884 - accuracy: 0.5225\n",
            "\n",
            "test acc :\n",
            " 0.5224999785423279\n"
          ]
        }
      ]
    }
  ]
}